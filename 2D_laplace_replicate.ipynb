{
 "cells": [
  {
   "cell_type": "code",
   "execution_count": null,
   "id": "20c9ab82",
   "metadata": {},
   "outputs": [],
   "source": [
    "#The modules are basic modules we have been using this whole term \n",
    "%matplotlib inline\n",
    "%matplotlib notebook\n",
    "import sympy as sp\n",
    "import numpy as np\n",
    "import matplotlib.pyplot as plt\n",
    "import GPy, GPyOpt\n",
    "import scipy, scipy.spatial\n",
    "import random\n",
    "\n",
    "#These modules need to be downloaded and installed as described in the appendix\n",
    "import bayesian_pdes as bpdes\n",
    "import bayesian_design as bd"
   ]
  },
  {
   "cell_type": "markdown",
   "id": "db6e0428",
   "metadata": {},
   "source": [
    "The equation we are solving is: $$\\Delta u = 0,$$ \n",
    "with the boundary conditions $u(0,y)=u(1,y)=u(x,0)=0$ and $u(x,1) = \\sin(\\pi  x)$. \n",
    "\n",
    "This has the solution: $$u(x,y) = \\frac{1}{\\sinh(\\pi)} \\sin(\\pi x) \\sinh(\\pi y).$$"
   ]
  },
  {
   "cell_type": "code",
   "execution_count": null,
   "id": "99308839",
   "metadata": {},
   "outputs": [],
   "source": [
    "#We define the exponential kernel using Sympy\n",
    "x_1,x_2, y_1, y_2 = sp.symbols('x_1 x_2 y_1 y_2')\n",
    "\n",
    "#This is the parameter that varies\n",
    "length_scale = 0.3\n",
    "#Exponetial kernel \n",
    "k = sp.exp(-((x_1-y_1)**2 + (x_2-y_2)**2) / (2*length_scale**2))\n",
    "\n",
    "# defining the operators \n",
    "def A(f): return f.diff(x_2, x_2) + f.diff(x_1, x_1)\n",
    "def Abar(f): return f.diff(y_2, y_2) + f.diff(y_1, y_1)\n",
    "def Identity(f): return f\n",
    "\n",
    "ops = [A, Identity]\n",
    "ops_bar = [Abar, Identity]"
   ]
  },
  {
   "cell_type": "code",
   "execution_count": null,
   "id": "3adc4196",
   "metadata": {},
   "outputs": [],
   "source": [
    "#This creates all the matrices need to be evaluated to calculate the mean and variance\n",
    "op_cache = bpdes.operator_compilation.compile_sympy(ops, ops_bar, k, [[x_1, x_2], [y_1, y_2]])"
   ]
  },
  {
   "cell_type": "markdown",
   "id": "0183e410",
   "metadata": {},
   "source": [
    "The boundary function is $$u(x,1) = \\sin(\\pi  x)$$"
   ]
  },
  {
   "cell_type": "code",
   "execution_count": null,
   "id": "9d266715",
   "metadata": {},
   "outputs": [],
   "source": [
    "# Non-constat Boundary condition \n",
    "def boundary_fun(x): \n",
    "    return np.sin(np.pi * x)"
   ]
  },
  {
   "cell_type": "code",
   "execution_count": null,
   "id": "91cee498",
   "metadata": {},
   "outputs": [],
   "source": [
    "#This creates the boundary points \n",
    "obs_per_bdy = 4\n",
    "# need some observations scattered on the bdy\n",
    "bdy_locs = [\n",
    "    [[0., y] for y in np.random.uniform(0,1,obs_per_bdy)],\n",
    "    [[1., y] for y in np.random.uniform(0,1,obs_per_bdy)],\n",
    "    [[x, 0.] for x in np.random.uniform(0,1,obs_per_bdy)],\n",
    "    [[x, 1.] for x in np.random.uniform(0,1,obs_per_bdy)]\n",
    "]\n",
    "bdy_locs = np.concatenate(bdy_locs)\n",
    "\n",
    "bdy_values = np.zeros((bdy_locs.shape[0], 1))\n",
    "\n",
    "# Adding the non-constant boundary observations to the rest of the boundary observations\n",
    "for i in range(4):\n",
    "    bdy_values[i+12] = boundary_fun(bdy_locs[i+12][0])\n",
    "    \n",
    "\n",
    "bdy_obs = (bdy_locs, bdy_values)"
   ]
  },
  {
   "cell_type": "code",
   "execution_count": null,
   "id": "ecc69541",
   "metadata": {},
   "outputs": [],
   "source": [
    "# positions of the observation points on the boundary\n",
    "plt.figure(figsize=(5,5))\n",
    "plt.scatter(bdy_locs[:,0], bdy_locs[:,1])\n",
    "plt.xlim(0,1)\n",
    "plt.ylim(0,1)\n",
    "plt.show()"
   ]
  },
  {
   "cell_type": "code",
   "execution_count": null,
   "id": "f0c3a618",
   "metadata": {},
   "outputs": [],
   "source": [
    "# random observation locations inside the space\n",
    "interior_obs = 10\n",
    "obs_locations = np.c_[np.random.rand(interior_obs, 1), np.random.rand(interior_obs, 1)]"
   ]
  },
  {
   "cell_type": "code",
   "execution_count": null,
   "id": "f9d479e7",
   "metadata": {},
   "outputs": [],
   "source": [
    "plt.figure(figsize=(5,5))\n",
    "plt.scatter(obs_locations[:,0], obs_locations[:,1])\n",
    "plt.xlim(0,1)\n",
    "plt.ylim(0,1)\n",
    "plt.show()"
   ]
  },
  {
   "cell_type": "code",
   "execution_count": null,
   "id": "1581b791",
   "metadata": {},
   "outputs": [],
   "source": [
    "# defining the rhs of the PDE \n",
    "def rhs(pts):\n",
    "    return (0.0*pts[:,1])[:,None]\n",
    "obs_values = rhs(obs_locations)\n",
    "\n",
    "#indexer = np.arange(len(obs_locations))\n",
    "orig_locations = obs_locations.copy()\n",
    "orig_values = obs_values.copy()\n",
    "#this is the solver\n",
    "orig_posterior = bpdes.collocate(ops, ops_bar, [(orig_locations, orig_values), bdy_obs], op_cache)"
   ]
  },
  {
   "cell_type": "code",
   "execution_count": null,
   "id": "cb7503bd",
   "metadata": {},
   "outputs": [],
   "source": [
    "#test points\n",
    "plot_x, plot_y = np.mgrid[0:1:40j, 0:1:40j]"
   ]
  },
  {
   "cell_type": "code",
   "execution_count": null,
   "id": "8d017e7f",
   "metadata": {},
   "outputs": [],
   "source": [
    "#Evaluating the mean and cov at the test points \n",
    "mu, cov = orig_posterior(np.c_[plot_x.ravel(), plot_y.ravel()])"
   ]
  },
  {
   "cell_type": "code",
   "execution_count": null,
   "id": "af9be433",
   "metadata": {},
   "outputs": [],
   "source": [
    "#epistemic uncertainty \n",
    "sigma_epi = np.sqrt(np.diag(cov)).flatten()"
   ]
  },
  {
   "cell_type": "code",
   "execution_count": null,
   "id": "1f9df3ee",
   "metadata": {},
   "outputs": [],
   "source": [
    "#to check whether the covariance matrix is symmetric\n",
    "plt.matshow(cov); plt.colorbar();\n",
    "plt.show()"
   ]
  },
  {
   "cell_type": "code",
   "execution_count": null,
   "id": "6104799d",
   "metadata": {},
   "outputs": [],
   "source": [
    "#This part can be skipped, it is just for sampling solutions from the posterior solution\n",
    "samples = (np.random.multivariate_normal(mu.ravel(),cov,500)).T\n",
    "\n",
    "new_samples = []\n",
    "for i in range(500): \n",
    "    new_samples.append(samples[:,i].reshape(plot_x.shape))"
   ]
  },
  {
   "cell_type": "code",
   "execution_count": null,
   "id": "33c03c1b",
   "metadata": {},
   "outputs": [],
   "source": [
    "#Plotting the sampled solutions from the posterior solution \n",
    "fig, axs = plt.subplots(2,5, figsize=(15, 6), facecolor='w', edgecolor='k')\n",
    "fig.subplots_adjust(hspace = .5, wspace=.001)\n",
    "\n",
    "axs = axs.ravel()\n",
    "\n",
    "for i in range(10):\n",
    "    \n",
    "    random_sample = random.randint(0,499)\n",
    "    axs[i].contourf(plot_x, plot_y, new_samples[random_sample])\n",
    "    axs[i].scatter(orig_locations[:,0], orig_locations[:,1], c='black', marker='x')\n",
    "    axs[i].set_title(random_sample)\n",
    "\n",
    "    \n",
    "plt.xlim(0,1); plt.ylim(0,1);   \n",
    "plt.colorbar\n",
    "plt.show()"
   ]
  },
  {
   "cell_type": "code",
   "execution_count": null,
   "id": "656903aa",
   "metadata": {},
   "outputs": [],
   "source": [
    "#Plots the mean function \n",
    "from IPython.display import display\n",
    "plt.figure(figsize=(6,5))\n",
    "\n",
    "plt.contour(plot_x, plot_y, mu.reshape(plot_x.shape))\n",
    "plt.scatter(orig_locations[:,0], orig_locations[:,1], c='black', marker='x')\n",
    "plt.xlim(0,1); plt.ylim(0,1);\n",
    "plt.colorbar()\n",
    "plt.show()"
   ]
  },
  {
   "cell_type": "code",
   "execution_count": null,
   "id": "ce98cf54",
   "metadata": {},
   "outputs": [],
   "source": [
    "#defining the solution to the PDE which will be used for comparisson \n",
    "def solution(x,y):\n",
    "    const = 1 / np.sinh(np.pi) \n",
    "    return const * np.sin(np.pi*x) * np.sinh(np.pi*y)"
   ]
  },
  {
   "cell_type": "code",
   "execution_count": null,
   "id": "ab0e9a8f",
   "metadata": {
    "scrolled": false
   },
   "outputs": [],
   "source": [
    "#plotting the mean vs the true solution \n",
    "from IPython.display import display\n",
    "plt.figure(figsize=(7,5))\n",
    "\n",
    "h_truth = plt.contour(plot_x, plot_y, solution(plot_x, plot_y), alpha = 0.7, colors='g')\n",
    "h_mean = plt.contour(plot_x, plot_y, mu.reshape(plot_x.shape), linestyles='dashed', colors='b')\n",
    "plt.scatter(orig_locations[:,0], orig_locations[:,1], c='black', marker='x', label='Collocation points')\n",
    "plt.xlim(0,1); plt.ylim(0,1); \n",
    "plt.legend(loc=3)\n",
    "plt.xlabel('$x$', fontsize=14)\n",
    "plt.ylabel('$y$', fontsize=14)\n",
    "#plt.savefig('figures/2_D_laplace/2_D_sol_l03_var', transparent=True, bbox_inches=0)\n",
    "plt.show()"
   ]
  },
  {
   "cell_type": "code",
   "execution_count": null,
   "id": "76a2f135",
   "metadata": {},
   "outputs": [],
   "source": [
    "#plotting the confidence intervals\n",
    "from IPython.display import display\n",
    "plt.figure(figsize=(7,5))\n",
    "\n",
    "plt.contour(plot_x, plot_y, mu.reshape(plot_x.shape) -2*sigma_epi.reshape(plot_x.shape), colors='r')\n",
    "plt.contour(plot_x, plot_y, mu.reshape(plot_x.shape) +2*sigma_epi.reshape(plot_x.shape), colors='b', linestyles='dashed')\n",
    "\n",
    "plt.scatter(orig_locations[:,0], orig_locations[:,1], c='black', marker='x', label='Collocation points')\n",
    "plt.xlim(0,1); plt.ylim(0,1); \n",
    "plt.legend(loc=3)\n",
    "plt.xlabel('$x$', fontsize=14)\n",
    "plt.ylabel('$y$', fontsize=14)\n",
    "#plt.savefig('figures/2_D_laplace/2_D_sol_l03_var', transparent=True, bbox_inches=0)\n",
    "plt.show()"
   ]
  },
  {
   "cell_type": "code",
   "execution_count": null,
   "id": "4c7966f3",
   "metadata": {},
   "outputs": [],
   "source": [
    "#this is for the uncertainty calculations\n",
    "int_results = {}\n",
    "ns = 5*np.arange(1,20)\n",
    "#seeding the random number so the same design points are used\n",
    "np.random.seed(31)\n",
    "for n_pts in 5*np.arange(1,20):\n",
    "    # Creating the observed positions\n",
    "    \n",
    "    interior_obs = n_pts\n",
    "    obs_locations = np.c_[np.random.rand(interior_obs, 1), np.random.rand(interior_obs, 1)]\n",
    "    obs_values = rhs(obs_locations)\n",
    "    \n",
    "    # Using PMM to solve for observed values\n",
    "    int_posterior = bpdes.collocate(ops, ops_bar, [(obs_locations, obs_values), bdy_obs], op_cache)    \n",
    "    int_results[n_pts] = int_posterior(np.c_[plot_x.ravel(), plot_y.ravel()])"
   ]
  },
  {
   "cell_type": "code",
   "execution_count": null,
   "id": "11f6c1df",
   "metadata": {},
   "outputs": [],
   "source": [
    "#this is for the uncertainty calculations\n",
    "int_errors = np.empty_like(ns, dtype=np.float)\n",
    "int_traces = np.empty_like(ns, dtype=np.float)\n",
    "actual = solution(plot_x, plot_y)\n",
    "for ix, n in enumerate(ns):\n",
    "    mu_int, cov_int = int_results[n]\n",
    "    \n",
    "    int_errors[ix] = np.linalg.norm(mu_int.reshape(plot_x.shape) - actual)\n",
    "    \n",
    "    int_traces[ix] = np.trace(cov_int)"
   ]
  },
  {
   "cell_type": "code",
   "execution_count": null,
   "id": "e40fb483",
   "metadata": {},
   "outputs": [],
   "source": [
    "#plots the error in conditional mean\n",
    "plt.semilogy(ns, int_errors, label='Integral Kernel', marker='o', markerfacecolor='white')\n",
    "plt.ylabel('$\\|\\\\mu - u \\|$', fontsize=14)\n",
    "plt.xlabel('$m_{\\\\mathcal{A}}$', fontsize=14)\n",
    "\n",
    "#plt.savefig('figures/2_D_laplace/kernel_mean_error_l03', transparent=True, bbox_inches=0)\n",
    "plt.legend()\n",
    "plt.show()"
   ]
  },
  {
   "cell_type": "code",
   "execution_count": null,
   "id": "0bf88264",
   "metadata": {},
   "outputs": [],
   "source": [
    "#plots the residual uncertainty \n",
    "plt.semilogy(ns, int_traces, label='Integral Kernel', marker='o', markerfacecolor='white')\n",
    "plt.ylabel('$Tr(\\\\Sigma)$', fontsize=14)\n",
    "plt.xlabel('$m_{\\\\mathcal{A}}$', fontsize=14)\n",
    "#plt.savefig('figures/2_D_laplace/kernel_trace_l03', transparent=True, bbox_inches=0)\n",
    "plt.legend()\n",
    "plt.show()"
   ]
  }
 ],
 "metadata": {
  "kernelspec": {
   "display_name": "Python 3 (ipykernel)",
   "language": "python",
   "name": "python3"
  },
  "language_info": {
   "codemirror_mode": {
    "name": "ipython",
    "version": 3
   },
   "file_extension": ".py",
   "mimetype": "text/x-python",
   "name": "python",
   "nbconvert_exporter": "python",
   "pygments_lexer": "ipython3",
   "version": "3.9.6"
  }
 },
 "nbformat": 4,
 "nbformat_minor": 5
}
